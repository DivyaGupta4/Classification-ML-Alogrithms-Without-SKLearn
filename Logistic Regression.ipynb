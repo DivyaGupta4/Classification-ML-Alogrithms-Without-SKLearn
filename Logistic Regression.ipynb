{
 "cells": [
  {
   "cell_type": "code",
   "execution_count": 1,
   "metadata": {},
   "outputs": [
    {
     "name": "stderr",
     "output_type": "stream",
     "text": [
      "C:\\Users\\Divya\\AppData\\Local\\Continuum\\anaconda3\\lib\\site-packages\\sklearn\\cross_validation.py:41: DeprecationWarning: This module was deprecated in version 0.18 in favor of the model_selection module into which all the refactored classes and functions are moved. Also note that the interface of the new CV iterators are different from that of this module. This module will be removed in 0.20.\n",
      "  \"This module will be removed in 0.20.\", DeprecationWarning)\n"
     ]
    }
   ],
   "source": [
    "from sklearn.cross_validation import train_test_split, StratifiedKFold\n",
    "import pandas as pd\n",
    "import math\n",
    "import numpy as np\n",
    "import matplotlib.pyplot as plt"
   ]
  },
  {
   "cell_type": "markdown",
   "metadata": {},
   "source": [
    "## Defining Required Functions "
   ]
  },
  {
   "cell_type": "code",
   "execution_count": 2,
   "metadata": {},
   "outputs": [],
   "source": [
    "# Defining the sigmoid function to get likelihood of belonging to a class\n",
    "def sigmoid_classifier(prob):\n",
    "    return (1 / (1 + np.exp(-prob)))"
   ]
  },
  {
   "cell_type": "code",
   "execution_count": 3,
   "metadata": {},
   "outputs": [],
   "source": [
    "# Defining Logistic Regression without using Scikit Learn\n",
    "def logistic_regression_classifier(predictors, response, iterations, learning_rate):\n",
    "\n",
    "    betas = np.zeros(predictors.shape[1])\n",
    "    \n",
    "    for iteration in range(iterations):\n",
    "        scores = np.dot(predictors, betas)\n",
    "        predictions = sigmoid_classifier(scores)\n",
    "\n",
    "        # Update coefficients\n",
    "        epsilon = response - predictions\n",
    "        gradient = np.dot(predictors.T, epsilon)\n",
    "        betas += learning_rate * gradient\n",
    "        \n",
    "    return betas"
   ]
  },
  {
   "cell_type": "markdown",
   "metadata": {},
   "source": [
    "## Data loading "
   ]
  },
  {
   "cell_type": "code",
   "execution_count": 4,
   "metadata": {},
   "outputs": [],
   "source": [
    "# Using openly available cancer dataset\n",
    "cancer = pd.read_csv('https://archive.ics.uci.edu/ml/machine-learning-databases/breast-cancer-wisconsin/wdbc.data', header = None)"
   ]
  },
  {
   "cell_type": "markdown",
   "metadata": {},
   "source": [
    "## Transformation and Model Fitting"
   ]
  },
  {
   "cell_type": "code",
   "execution_count": 5,
   "metadata": {},
   "outputs": [],
   "source": [
    "# Mapping the classification variable to numeric\n",
    "conv = {'B':0,'M':1}\n",
    "cancer[32] = cancer[1].map(conv)\n",
    "\n",
    "# Separating predictors and response variable\n",
    "X = cancer.loc[:,2:31] ## Data points that act as predictors\n",
    "y = cancer.loc[:,32] ## Target variable coded into 0 and 1 from Malignant and Benign\n",
    "\n",
    "# Splitting the data set into test and train using Scikit Learn's test-train split function\n",
    "X_train, X_test, y_train, y_test = train_test_split(X, y, stratify=y, test_size = 0.20)\n",
    "\n",
    "# Normalising the data\n",
    "X_train_min = X_train.min()\n",
    "X_train_max = X_train.max()\n",
    "X_train = (X_train - X_train.min())/(X_train.max() - X_train.min())\n",
    "X_test = (X_test - X_train_min)/(X_train_max - X_train_min)\n",
    "\n",
    "# Calling logistic regression function\n",
    "result = logistic_regression_classifier(X_train,y_train,300000, 5e-5)"
   ]
  },
  {
   "cell_type": "code",
   "execution_count": 6,
   "metadata": {},
   "outputs": [
    {
     "name": "stdout",
     "output_type": "stream",
     "text": [
      "Train Set Accuracy: 0.9648351648351648\n"
     ]
    }
   ],
   "source": [
    "final_scores = np.dot(X_train, result)\n",
    "preds = np.round(sigmoid_classifier(final_scores))\n",
    "\n",
    "print('Train Set Accuracy: {0}'.format((preds == y_train).sum().astype(float) / len(preds)))"
   ]
  },
  {
   "cell_type": "code",
   "execution_count": 7,
   "metadata": {},
   "outputs": [
    {
     "name": "stdout",
     "output_type": "stream",
     "text": [
      "Test Set Accuracy: 0.956140350877193\n"
     ]
    }
   ],
   "source": [
    "final_scores_test = np.dot(X_test, result)\n",
    "preds_test = np.round(sigmoid_classifier(final_scores_test))\n",
    "\n",
    "print('Test Set Accuracy: {0}'.format((preds_test == y_test).sum().astype(float) / len(preds_test)))"
   ]
  }
 ],
 "metadata": {
  "kernelspec": {
   "display_name": "Python 3",
   "language": "python",
   "name": "python3"
  },
  "language_info": {
   "codemirror_mode": {
    "name": "ipython",
    "version": 3
   },
   "file_extension": ".py",
   "mimetype": "text/x-python",
   "name": "python",
   "nbconvert_exporter": "python",
   "pygments_lexer": "ipython3",
   "version": "3.6.4"
  }
 },
 "nbformat": 4,
 "nbformat_minor": 2
}
