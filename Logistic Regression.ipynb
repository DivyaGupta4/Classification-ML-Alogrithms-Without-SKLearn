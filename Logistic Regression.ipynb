{
 "cells": [
  {
   "cell_type": "code",
   "execution_count": 15,
   "metadata": {},
   "outputs": [],
   "source": [
    "from sklearn.cross_validation import train_test_split, StratifiedKFold\n",
    "import pandas as pd\n",
    "import math\n",
    "import numpy as np\n",
    "import matplotlib.pyplot as plt"
   ]
  },
  {
   "cell_type": "code",
   "execution_count": 16,
   "metadata": {},
   "outputs": [],
   "source": [
    "# Defining the sigmoid function to get likelihood of belonging to a class\n",
    "def sigmoid_classifier(prob):\n",
    "    return 1 / (1 + math.exp(-prob))"
   ]
  },
  {
   "cell_type": "code",
   "execution_count": 17,
   "metadata": {},
   "outputs": [],
   "source": [
    "# Calculating output of logit function\n",
    "def logit_func(predictors, betas):\n",
    "    return np.dot(predictors, betas)"
   ]
  },
  {
   "cell_type": "code",
   "execution_count": null,
   "metadata": {},
   "outputs": [],
   "source": [
    "# Calculating log likelihood of belonging to a class\n",
    "def mle(response, logit_output):\n",
    "    mle_output = math.sum(response * logit_output - math.log(1 + math.exp(logit_output)))\n",
    "    return mle_output"
   ]
  },
  {
   "cell_type": "code",
   "execution_count": null,
   "metadata": {},
   "outputs": [],
   "source": [
    "# Defining Logistic Regression without using Scikit Learn\n",
    "def logistic_regression_classifier(predictors, response, add_intercept = False):\n",
    "    if add_intercept:\n",
    "        intercept = np.random(predictors.shape[0], 1)\n",
    "        features = pd.concat(intercept,predictors)\n",
    "        \n",
    "    betas = np.zeros(predictors.shape[1])\n",
    "    \n",
    "    for step in xrange(num_steps):\n",
    "        scores = np.dot(predictors, weights)\n",
    "        predictions = sigmoid(scores)\n",
    "\n",
    "        # Update weights with gradient\n",
    "        output_error_signal = target - predictions\n",
    "        gradient = np.dot(predictors.T, output_error_signal)\n",
    "        weights += learning_rate * gradient\n",
    "        \n",
    "        # Print log-likelihood every so often\n",
    "        if step % 10000 == 0:\n",
    "            print log_likelihood(predictors, target, weights)\n",
    "        \n",
    "    return weights"
   ]
  },
  {
   "cell_type": "markdown",
   "metadata": {},
   "source": [
    "## Data loading "
   ]
  },
  {
   "cell_type": "code",
   "execution_count": 9,
   "metadata": {},
   "outputs": [],
   "source": [
    "# Using openly available cancer dataset\n",
    "cancer = pd.read_csv('https://archive.ics.uci.edu/ml/machine-learning-databases/breast-cancer-wisconsin/wdbc.data', header = None)"
   ]
  },
  {
   "cell_type": "markdown",
   "metadata": {},
   "source": [
    "## Data Transformation "
   ]
  },
  {
   "cell_type": "code",
   "execution_count": 10,
   "metadata": {},
   "outputs": [],
   "source": [
    "# Mapping the classification variable to numeric\n",
    "conv = {'B':0,'M':1}\n",
    "cancer[32] = cancer[1].map(conv)\n",
    "\n",
    "# Separating predictors and response variable\n",
    "X = cancer.loc[:,2:31] ## Data points that act as predictors\n",
    "y = cancer.loc[:,32] ## Target variable coded into 0 and 1 from Malignant and Benign"
   ]
  },
  {
   "cell_type": "code",
   "execution_count": 18,
   "metadata": {},
   "outputs": [],
   "source": [
    "# Splitting the data set into test and train using Scikit Learn's test-train split function\n",
    "X_train, X_test, y_train, y_test = train_test_split(X, y, stratify=y, random_state=123, test_size = 0.20)"
   ]
  },
  {
   "cell_type": "code",
   "execution_count": null,
   "metadata": {},
   "outputs": [],
   "source": []
  }
 ],
 "metadata": {
  "kernelspec": {
   "display_name": "Python 3",
   "language": "python",
   "name": "python3"
  },
  "language_info": {
   "codemirror_mode": {
    "name": "ipython",
    "version": 3
   },
   "file_extension": ".py",
   "mimetype": "text/x-python",
   "name": "python",
   "nbconvert_exporter": "python",
   "pygments_lexer": "ipython3",
   "version": "3.6.4"
  }
 },
 "nbformat": 4,
 "nbformat_minor": 2
}
